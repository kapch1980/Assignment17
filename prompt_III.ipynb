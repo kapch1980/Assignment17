{
 "cells": [
  {
   "cell_type": "markdown",
   "metadata": {},
   "source": [
    "# Practical Application III: Comparing Classifiers\n",
    "\n",
    "**Overview**: In this practical application, your goal is to compare the performance of the classifiers we encountered in this section, namely K Nearest Neighbor, Logistic Regression, Decision Trees, and Support Vector Machines.  We will utilize a dataset related to marketing bank products over the telephone.  \n",
    "\n"
   ]
  },
  {
   "cell_type": "markdown",
   "metadata": {},
   "source": [
    "### Getting Started\n",
    "\n",
    "Our dataset comes from the UCI Machine Learning repository [link](https://archive.ics.uci.edu/ml/datasets/bank+marketing).  The data is from a Portugese banking institution and is a collection of the results of multiple marketing campaigns.  We will make use of the article accompanying the dataset [here](CRISP-DM-BANK.pdf) for more information on the data and features.\n",
    "\n"
   ]
  },
  {
   "cell_type": "markdown",
   "metadata": {},
   "source": [
    "### Problem 1: Understanding the Data\n",
    "\n",
    "To gain a better understanding of the data, please read the information provided in the UCI link above, and examine the **Materials and Methods** section of the paper.  How many marketing campaigns does this data represent?"
   ]
  },
  {
   "cell_type": "markdown",
   "metadata": {},
   "source": [
    "1. Data is collected from May 2008 to November 2010 - for 43 marketing campaigns.\n",
    "2. Data has 16 variables with labeled output result. Output result is whether the customer subscribed the term deposit or not."
   ]
  },
  {
   "cell_type": "markdown",
   "metadata": {},
   "source": [
    "### Problem 2: Read in the Data\n",
    "\n",
    "Use pandas to read in the dataset `bank-additional-full.csv` and assign to a meaningful variable name."
   ]
  },
  {
   "cell_type": "code",
   "execution_count": 1,
   "metadata": {},
   "outputs": [],
   "source": [
    "import pandas as pd\n",
    "import time\n",
    "\n",
    "from sklearn                   import tree\n",
    "from sklearn.dummy             import DummyClassifier\n",
    "from sklearn.linear_model      import LogisticRegression\n",
    "from sklearn.metrics           import precision_score, make_scorer, roc_auc_score\n",
    "from sklearn.model_selection   import GridSearchCV, PredefinedSplit, train_test_split\n",
    "from sklearn.neighbors         import KNeighborsClassifier\n",
    "from sklearn.svm               import SVC\n",
    "from sklearn.tree              import DecisionTreeClassifier"
   ]
  },
  {
   "cell_type": "code",
   "execution_count": 2,
   "metadata": {},
   "outputs": [],
   "source": [
    "df = pd.read_csv('data/bank-additional/bank-additional-full.csv', sep = ';')"
   ]
  },
  {
   "cell_type": "code",
   "execution_count": 3,
   "metadata": {},
   "outputs": [
    {
     "data": {
      "text/html": [
       "<div>\n",
       "<style scoped>\n",
       "    .dataframe tbody tr th:only-of-type {\n",
       "        vertical-align: middle;\n",
       "    }\n",
       "\n",
       "    .dataframe tbody tr th {\n",
       "        vertical-align: top;\n",
       "    }\n",
       "\n",
       "    .dataframe thead th {\n",
       "        text-align: right;\n",
       "    }\n",
       "</style>\n",
       "<table border=\"1\" class=\"dataframe\">\n",
       "  <thead>\n",
       "    <tr style=\"text-align: right;\">\n",
       "      <th></th>\n",
       "      <th>age</th>\n",
       "      <th>job</th>\n",
       "      <th>marital</th>\n",
       "      <th>education</th>\n",
       "      <th>default</th>\n",
       "      <th>housing</th>\n",
       "      <th>loan</th>\n",
       "      <th>contact</th>\n",
       "      <th>month</th>\n",
       "      <th>day_of_week</th>\n",
       "      <th>...</th>\n",
       "      <th>campaign</th>\n",
       "      <th>pdays</th>\n",
       "      <th>previous</th>\n",
       "      <th>poutcome</th>\n",
       "      <th>emp.var.rate</th>\n",
       "      <th>cons.price.idx</th>\n",
       "      <th>cons.conf.idx</th>\n",
       "      <th>euribor3m</th>\n",
       "      <th>nr.employed</th>\n",
       "      <th>y</th>\n",
       "    </tr>\n",
       "  </thead>\n",
       "  <tbody>\n",
       "    <tr>\n",
       "      <th>0</th>\n",
       "      <td>56</td>\n",
       "      <td>housemaid</td>\n",
       "      <td>married</td>\n",
       "      <td>basic.4y</td>\n",
       "      <td>no</td>\n",
       "      <td>no</td>\n",
       "      <td>no</td>\n",
       "      <td>telephone</td>\n",
       "      <td>may</td>\n",
       "      <td>mon</td>\n",
       "      <td>...</td>\n",
       "      <td>1</td>\n",
       "      <td>999</td>\n",
       "      <td>0</td>\n",
       "      <td>nonexistent</td>\n",
       "      <td>1.1</td>\n",
       "      <td>93.994</td>\n",
       "      <td>-36.4</td>\n",
       "      <td>4.857</td>\n",
       "      <td>5191.0</td>\n",
       "      <td>no</td>\n",
       "    </tr>\n",
       "    <tr>\n",
       "      <th>1</th>\n",
       "      <td>57</td>\n",
       "      <td>services</td>\n",
       "      <td>married</td>\n",
       "      <td>high.school</td>\n",
       "      <td>unknown</td>\n",
       "      <td>no</td>\n",
       "      <td>no</td>\n",
       "      <td>telephone</td>\n",
       "      <td>may</td>\n",
       "      <td>mon</td>\n",
       "      <td>...</td>\n",
       "      <td>1</td>\n",
       "      <td>999</td>\n",
       "      <td>0</td>\n",
       "      <td>nonexistent</td>\n",
       "      <td>1.1</td>\n",
       "      <td>93.994</td>\n",
       "      <td>-36.4</td>\n",
       "      <td>4.857</td>\n",
       "      <td>5191.0</td>\n",
       "      <td>no</td>\n",
       "    </tr>\n",
       "    <tr>\n",
       "      <th>2</th>\n",
       "      <td>37</td>\n",
       "      <td>services</td>\n",
       "      <td>married</td>\n",
       "      <td>high.school</td>\n",
       "      <td>no</td>\n",
       "      <td>yes</td>\n",
       "      <td>no</td>\n",
       "      <td>telephone</td>\n",
       "      <td>may</td>\n",
       "      <td>mon</td>\n",
       "      <td>...</td>\n",
       "      <td>1</td>\n",
       "      <td>999</td>\n",
       "      <td>0</td>\n",
       "      <td>nonexistent</td>\n",
       "      <td>1.1</td>\n",
       "      <td>93.994</td>\n",
       "      <td>-36.4</td>\n",
       "      <td>4.857</td>\n",
       "      <td>5191.0</td>\n",
       "      <td>no</td>\n",
       "    </tr>\n",
       "    <tr>\n",
       "      <th>3</th>\n",
       "      <td>40</td>\n",
       "      <td>admin.</td>\n",
       "      <td>married</td>\n",
       "      <td>basic.6y</td>\n",
       "      <td>no</td>\n",
       "      <td>no</td>\n",
       "      <td>no</td>\n",
       "      <td>telephone</td>\n",
       "      <td>may</td>\n",
       "      <td>mon</td>\n",
       "      <td>...</td>\n",
       "      <td>1</td>\n",
       "      <td>999</td>\n",
       "      <td>0</td>\n",
       "      <td>nonexistent</td>\n",
       "      <td>1.1</td>\n",
       "      <td>93.994</td>\n",
       "      <td>-36.4</td>\n",
       "      <td>4.857</td>\n",
       "      <td>5191.0</td>\n",
       "      <td>no</td>\n",
       "    </tr>\n",
       "    <tr>\n",
       "      <th>4</th>\n",
       "      <td>56</td>\n",
       "      <td>services</td>\n",
       "      <td>married</td>\n",
       "      <td>high.school</td>\n",
       "      <td>no</td>\n",
       "      <td>no</td>\n",
       "      <td>yes</td>\n",
       "      <td>telephone</td>\n",
       "      <td>may</td>\n",
       "      <td>mon</td>\n",
       "      <td>...</td>\n",
       "      <td>1</td>\n",
       "      <td>999</td>\n",
       "      <td>0</td>\n",
       "      <td>nonexistent</td>\n",
       "      <td>1.1</td>\n",
       "      <td>93.994</td>\n",
       "      <td>-36.4</td>\n",
       "      <td>4.857</td>\n",
       "      <td>5191.0</td>\n",
       "      <td>no</td>\n",
       "    </tr>\n",
       "  </tbody>\n",
       "</table>\n",
       "<p>5 rows × 21 columns</p>\n",
       "</div>"
      ],
      "text/plain": [
       "   age        job  marital    education  default housing loan    contact  \\\n",
       "0   56  housemaid  married     basic.4y       no      no   no  telephone   \n",
       "1   57   services  married  high.school  unknown      no   no  telephone   \n",
       "2   37   services  married  high.school       no     yes   no  telephone   \n",
       "3   40     admin.  married     basic.6y       no      no   no  telephone   \n",
       "4   56   services  married  high.school       no      no  yes  telephone   \n",
       "\n",
       "  month day_of_week  ...  campaign  pdays  previous     poutcome emp.var.rate  \\\n",
       "0   may         mon  ...         1    999         0  nonexistent          1.1   \n",
       "1   may         mon  ...         1    999         0  nonexistent          1.1   \n",
       "2   may         mon  ...         1    999         0  nonexistent          1.1   \n",
       "3   may         mon  ...         1    999         0  nonexistent          1.1   \n",
       "4   may         mon  ...         1    999         0  nonexistent          1.1   \n",
       "\n",
       "   cons.price.idx  cons.conf.idx  euribor3m  nr.employed   y  \n",
       "0          93.994          -36.4      4.857       5191.0  no  \n",
       "1          93.994          -36.4      4.857       5191.0  no  \n",
       "2          93.994          -36.4      4.857       5191.0  no  \n",
       "3          93.994          -36.4      4.857       5191.0  no  \n",
       "4          93.994          -36.4      4.857       5191.0  no  \n",
       "\n",
       "[5 rows x 21 columns]"
      ]
     },
     "execution_count": 3,
     "metadata": {},
     "output_type": "execute_result"
    }
   ],
   "source": [
    "df.head()"
   ]
  },
  {
   "cell_type": "markdown",
   "metadata": {},
   "source": [
    "### Problem 3: Understanding the Features\n",
    "\n",
    "\n",
    "Examine the data description below, and determine if any of the features are missing values or need to be coerced to a different data type.\n",
    "\n",
    "\n",
    "```\n",
    "Input variables:\n",
    "# bank client data:\n",
    "1 - age (numeric)\n",
    "2 - job : type of job (categorical: 'admin.','blue-collar','entrepreneur','housemaid','management','retired','self-employed','services','student','technician','unemployed','unknown')\n",
    "3 - marital : marital status (categorical: 'divorced','married','single','unknown'; note: 'divorced' means divorced or widowed)\n",
    "4 - education (categorical: 'basic.4y','basic.6y','basic.9y','high.school','illiterate','professional.course','university.degree','unknown')\n",
    "5 - default: has credit in default? (categorical: 'no','yes','unknown')\n",
    "6 - housing: has housing loan? (categorical: 'no','yes','unknown')\n",
    "7 - loan: has personal loan? (categorical: 'no','yes','unknown')\n",
    "# related with the last contact of the current campaign:\n",
    "8 - contact: contact communication type (categorical: 'cellular','telephone')\n",
    "9 - month: last contact month of year (categorical: 'jan', 'feb', 'mar', ..., 'nov', 'dec')\n",
    "10 - day_of_week: last contact day of the week (categorical: 'mon','tue','wed','thu','fri')\n",
    "11 - duration: last contact duration, in seconds (numeric). Important note: this attribute highly affects the output target (e.g., if duration=0 then y='no'). Yet, the duration is not known before a call is performed. Also, after the end of the call y is obviously known. Thus, this input should only be included for benchmark purposes and should be discarded if the intention is to have a realistic predictive model.\n",
    "# other attributes:\n",
    "12 - campaign: number of contacts performed during this campaign and for this client (numeric, includes last contact)\n",
    "13 - pdays: number of days that passed by after the client was last contacted from a previous campaign (numeric; 999 means client was not previously contacted)\n",
    "14 - previous: number of contacts performed before this campaign and for this client (numeric)\n",
    "15 - poutcome: outcome of the previous marketing campaign (categorical: 'failure','nonexistent','success')\n",
    "# social and economic context attributes\n",
    "16 - emp.var.rate: employment variation rate - quarterly indicator (numeric)\n",
    "17 - cons.price.idx: consumer price index - monthly indicator (numeric)\n",
    "18 - cons.conf.idx: consumer confidence index - monthly indicator (numeric)\n",
    "19 - euribor3m: euribor 3 month rate - daily indicator (numeric)\n",
    "20 - nr.employed: number of employees - quarterly indicator (numeric)\n",
    "\n",
    "Output variable (desired target):\n",
    "21 - y - has the client subscribed a term deposit? (binary: 'yes','no')\n",
    "```\n",
    "\n"
   ]
  },
  {
   "cell_type": "markdown",
   "metadata": {},
   "source": [
    "### Problem 4: Understanding the Task\n",
    "\n",
    "After examining the description and data, your goal now is to clearly state the *Business Objective* of the task.  State the objective below."
   ]
  },
  {
   "cell_type": "code",
   "execution_count": 4,
   "metadata": {},
   "outputs": [
    {
     "name": "stdout",
     "output_type": "stream",
     "text": [
      "<class 'pandas.core.frame.DataFrame'>\n",
      "RangeIndex: 41188 entries, 0 to 41187\n",
      "Data columns (total 21 columns):\n",
      " #   Column          Non-Null Count  Dtype  \n",
      "---  ------          --------------  -----  \n",
      " 0   age             41188 non-null  int64  \n",
      " 1   job             41188 non-null  object \n",
      " 2   marital         41188 non-null  object \n",
      " 3   education       41188 non-null  object \n",
      " 4   default         41188 non-null  object \n",
      " 5   housing         41188 non-null  object \n",
      " 6   loan            41188 non-null  object \n",
      " 7   contact         41188 non-null  object \n",
      " 8   month           41188 non-null  object \n",
      " 9   day_of_week     41188 non-null  object \n",
      " 10  duration        41188 non-null  int64  \n",
      " 11  campaign        41188 non-null  int64  \n",
      " 12  pdays           41188 non-null  int64  \n",
      " 13  previous        41188 non-null  int64  \n",
      " 14  poutcome        41188 non-null  object \n",
      " 15  emp.var.rate    41188 non-null  float64\n",
      " 16  cons.price.idx  41188 non-null  float64\n",
      " 17  cons.conf.idx   41188 non-null  float64\n",
      " 18  euribor3m       41188 non-null  float64\n",
      " 19  nr.employed     41188 non-null  float64\n",
      " 20  y               41188 non-null  object \n",
      "dtypes: float64(5), int64(5), object(11)\n",
      "memory usage: 6.6+ MB\n"
     ]
    }
   ],
   "source": [
    "df.info()"
   ]
  },
  {
   "cell_type": "markdown",
   "metadata": {},
   "source": [
    "### Problem 5: Engineering Features\n",
    "\n",
    "Now that you understand your business objective, we will build a basic model to get started.  Before we can do this, we must work to encode the data.  Using just the bank information features (columns 1 - 7), prepare the features and target column for modeling with appropriate encoding and transformations."
   ]
  },
  {
   "cell_type": "code",
   "execution_count": 5,
   "metadata": {},
   "outputs": [],
   "source": [
    "from sklearn.compose import ColumnTransformer\n",
    "from sklearn.preprocessing import OneHotEncoder, StandardScaler, LabelEncoder\n",
    "\n",
    "encoder = ColumnTransformer(\n",
    "    [('onehot', OneHotEncoder(), [ 'job', 'marital', 'education', 'default', 'housing', 'loan', 'poutcome'])])"
   ]
  },
  {
   "cell_type": "code",
   "execution_count": 6,
   "metadata": {},
   "outputs": [
    {
     "name": "stdout",
     "output_type": "stream",
     "text": [
      "                                                       0\n",
      "0        (0, 3)\\t1.0\\n  (0, 13)\\t1.0\\n  (0, 16)\\t1.0\\...\n",
      "1        (0, 7)\\t1.0\\n  (0, 13)\\t1.0\\n  (0, 19)\\t1.0\\...\n",
      "2        (0, 7)\\t1.0\\n  (0, 13)\\t1.0\\n  (0, 19)\\t1.0\\...\n",
      "3        (0, 0)\\t1.0\\n  (0, 13)\\t1.0\\n  (0, 17)\\t1.0\\...\n",
      "4        (0, 7)\\t1.0\\n  (0, 13)\\t1.0\\n  (0, 19)\\t1.0\\...\n",
      "...                                                  ...\n",
      "41183    (0, 5)\\t1.0\\n  (0, 13)\\t1.0\\n  (0, 21)\\t1.0\\...\n",
      "41184    (0, 1)\\t1.0\\n  (0, 13)\\t1.0\\n  (0, 21)\\t1.0\\...\n",
      "41185    (0, 5)\\t1.0\\n  (0, 13)\\t1.0\\n  (0, 22)\\t1.0\\...\n",
      "41186    (0, 9)\\t1.0\\n  (0, 13)\\t1.0\\n  (0, 21)\\t1.0\\...\n",
      "41187    (0, 5)\\t1.0\\n  (0, 13)\\t1.0\\n  (0, 21)\\t1.0\\...\n",
      "\n",
      "[41188 rows x 1 columns]\n"
     ]
    }
   ],
   "source": [
    "# fit and transform the data\n",
    "encoded_data = encoder.fit_transform(df)\n",
    "\n",
    "# convert the encoded data to a DataFrame\n",
    "encoded_df = pd.DataFrame(encoded_data)\n",
    "\n",
    "# print the encoded DataFrame\n",
    "print(encoded_df)\n"
   ]
  },
  {
   "cell_type": "code",
   "execution_count": 7,
   "metadata": {},
   "outputs": [
    {
     "data": {
      "text/html": [
       "<div>\n",
       "<style scoped>\n",
       "    .dataframe tbody tr th:only-of-type {\n",
       "        vertical-align: middle;\n",
       "    }\n",
       "\n",
       "    .dataframe tbody tr th {\n",
       "        vertical-align: top;\n",
       "    }\n",
       "\n",
       "    .dataframe thead th {\n",
       "        text-align: right;\n",
       "    }\n",
       "</style>\n",
       "<table border=\"1\" class=\"dataframe\">\n",
       "  <thead>\n",
       "    <tr style=\"text-align: right;\">\n",
       "      <th></th>\n",
       "    </tr>\n",
       "  </thead>\n",
       "  <tbody>\n",
       "  </tbody>\n",
       "</table>\n",
       "</div>"
      ],
      "text/plain": [
       "Empty DataFrame\n",
       "Columns: []\n",
       "Index: []"
      ]
     },
     "execution_count": 7,
     "metadata": {},
     "output_type": "execute_result"
    }
   ],
   "source": [
    "encoded_df.corr(method='kendall')"
   ]
  },
  {
   "cell_type": "code",
   "execution_count": 8,
   "metadata": {},
   "outputs": [
    {
     "data": {
      "text/plain": [
       "<AxesSubplot:>"
      ]
     },
     "execution_count": 8,
     "metadata": {},
     "output_type": "execute_result"
    },
    {
     "data": {
      "image/png": "[encoded data removed]",
      "text/plain": [
       "<Figure size 432x288 with 2 Axes>"
      ]
     },
     "metadata": {
      "needs_background": "light"
     },
     "output_type": "display_data"
    }
   ],
   "source": [
    "import seaborn as sb\n",
    "corr = df.corr()\n",
    "sb.heatmap(corr, cmap=\"Blues\", annot=True)"
   ]
  },
  {
   "cell_type": "markdown",
   "metadata": {},
   "source": [
    "### Problem 6: Train/Test Split\n",
    "\n",
    "With your data prepared, split it into a train and test set."
   ]
  },
  {
   "cell_type": "code",
   "execution_count": 9,
   "metadata": {},
   "outputs": [],
   "source": [
    "# Import necessary libraries\n",
    "from sklearn.datasets import load_iris\n",
    "from sklearn.model_selection import train_test_split\n",
    "from sklearn.dummy import DummyClassifier\n",
    "from sklearn.metrics import accuracy_score\n",
    "from category_encoders import WOEEncoder\n",
    "import category_encoders\n",
    "import warnings\n",
    "warnings.filterwarnings( 'ignore' )\n",
    "\n",
    "# Create an instance of WOEEncoder\n",
    "woe_encoder = WOEEncoder()\n",
    "\n",
    "X = df[ ['age', 'job', 'marital', 'education', 'default', 'housing', 'loan' ] ]\n",
    "df['y'] = df['y'].map({'yes':1,'no':0})\n",
    "\n",
    "X_train, X_test, y_train, y_test = train_test_split(df.drop('y', axis=1), df['y'], test_size=0.2, random_state=42)\n",
    "\n",
    "\n",
    "# Fit and transform the categorical features with WOEEncoder\n",
    "X_train_encoded = woe_encoder.fit_transform(X_train, y_train)\n",
    "X_test_encoded = woe_encoder.fit_transform(X_test, y_test)\n"
   ]
  },
  {
   "cell_type": "markdown",
   "metadata": {},
   "source": [
    "### Problem 7: A Baseline Model\n",
    "\n",
    "Before we build our first model, we want to establish a baseline.  What is the baseline performance that our classifier should aim to beat?\n",
    "\n",
    "###### The DummyClassifier is a classifier in scikit-learn that provides baseline performance by using simple rules for prediction. It can serve as a benchmark to compare the performance of other classifiers. "
   ]
  },
  {
   "cell_type": "code",
   "execution_count": 10,
   "metadata": {},
   "outputs": [],
   "source": [
    "output = pd.DataFrame( columns = [ 'Model',\n",
    "                                    'Train Time',\n",
    "                                    'Train Accuracy',\n",
    "                                    'Test Accuracy'] )"
   ]
  },
  {
   "cell_type": "code",
   "execution_count": 11,
   "metadata": {},
   "outputs": [
    {
     "name": "stdout",
     "output_type": "stream",
     "text": [
      "Accuracy: 0.7948103186646434\n",
      "Accuracy: 0.8004369992716679\n",
      "             Model Train Time Train Accuracy Test Accuracy\n",
      "0  DummyClassifier   0.001332        0.79481      0.800437\n"
     ]
    }
   ],
   "source": [
    "# Create an instance of DummyClassifier using the desired strategy\n",
    "model = DummyClassifier(strategy=\"stratified\")\n",
    "\n",
    "# Fit the model and find time to train using the training data\n",
    "start = time.time()\n",
    "model.fit(X_train_encoded, y_train)\n",
    "stop  = time.time()\n",
    "t_time = stop - start\n",
    "\n",
    "# Calculate accuracy with train\n",
    "y_train_pred = model.predict(X_train_encoded)\n",
    "accuracy = accuracy_score(y_train, y_train_pred)\n",
    "print(\"Accuracy:\", accuracy)\n",
    "\n",
    "# Calculate accuracy with test\n",
    "y_pred = model.predict(X_test_encoded)\n",
    "test_accuracy = accuracy_score(y_test, y_pred)\n",
    "print(\"Accuracy:\", test_accuracy)\n",
    "\n",
    "# Create a new row as a dictionary\n",
    "new_row = {'Model': 'DummyClassifier', 'Train Time': t_time, 'Train Accuracy' : accuracy, 'Test Accuracy' : test_accuracy}\n",
    "\n",
    "# Using append() method\n",
    "output = output.append(new_row, ignore_index=True)\n",
    "print(output)"
   ]
  },
  {
   "cell_type": "markdown",
   "metadata": {},
   "source": [
    "### Problem 8: A Simple Model\n",
    "\n",
    "Use Logistic Regression to build a basic model on your data.  "
   ]
  },
  {
   "cell_type": "code",
   "execution_count": 12,
   "metadata": {},
   "outputs": [],
   "source": [
    "# Create an instance of DummyClassifier using the desired strategy\n",
    "model = LogisticRegression( class_weight = 'balanced', max_iter = 1000 )\n",
    "\n",
    "# Fit the model and find time to train using the training data\n",
    "start = time.time()\n",
    "model.fit(X_train_encoded, y_train)\n",
    "stop  = time.time()\n",
    "t_time = stop - start\n",
    "\n"
   ]
  },
  {
   "cell_type": "markdown",
   "metadata": {},
   "source": [
    "### Problem 9: Score the Model\n",
    "\n",
    "What is the accuracy of your model?"
   ]
  },
  {
   "cell_type": "code",
   "execution_count": 13,
   "metadata": {},
   "outputs": [
    {
     "name": "stdout",
     "output_type": "stream",
     "text": [
      "Accuracy: 0.8614871016691957\n",
      "Accuracy: 0.8566399611556202\n",
      "                Model Train Time Train Accuracy Test Accuracy\n",
      "0     DummyClassifier   0.001332        0.79481      0.800437\n",
      "1  LogisticRegression   0.806132       0.861487       0.85664\n"
     ]
    }
   ],
   "source": [
    "# Calculate accuracy with train\n",
    "y_train_pred = model.predict(X_train_encoded)\n",
    "accuracy = accuracy_score(y_train, y_train_pred)\n",
    "print(\"Accuracy:\", accuracy)\n",
    "\n",
    "# Calculate accuracy with test\n",
    "y_pred = model.predict(X_test_encoded)\n",
    "test_accuracy = accuracy_score(y_test, y_pred)\n",
    "print(\"Accuracy:\", test_accuracy)\n",
    "\n",
    "# Create a new row as a dictionary\n",
    "new_row = {'Model': 'LogisticRegression', 'Train Time': t_time, 'Train Accuracy' : accuracy, 'Test Accuracy' : test_accuracy}\n",
    "\n",
    "# Using append() method\n",
    "output = output.append(new_row, ignore_index=True)\n",
    "print(output)"
   ]
  },
  {
   "cell_type": "markdown",
   "metadata": {},
   "source": [
    "### Problem 10: Model Comparisons\n",
    "\n",
    "Now, we aim to compare the performance of the Logistic Regression model to our KNN algorithm, Decision Tree, and SVM models.  Using the default settings for each of the models, fit and score each.  Also, be sure to compare the fit time of each of the models.  Present your findings in a `DataFrame` similar to that below:\n",
    "\n",
    "| Model | Train Time | Train Accuracy | Test Accuracy |\n",
    "| ----- | ---------- | -------------  | -----------   |\n",
    "|     |    |.     |.     |"
   ]
  },
  {
   "cell_type": "code",
   "execution_count": 14,
   "metadata": {},
   "outputs": [
    {
     "name": "stdout",
     "output_type": "stream",
     "text": [
      "Accuracy: 0.9316843702579666\n",
      "Accuracy: 0.9014323865015781\n",
      "                  Model Train Time Train Accuracy Test Accuracy\n",
      "0       DummyClassifier   0.001332        0.79481      0.800437\n",
      "1    LogisticRegression   0.806132       0.861487       0.85664\n",
      "2  KNeighborsClassifier   0.013755       0.931684      0.901432\n"
     ]
    }
   ],
   "source": [
    "# Create an instance of DummyClassifier using the desired strategy\n",
    "model = KNeighborsClassifier()\n",
    "\n",
    "# Fit the model and find time to train using the training data\n",
    "start = time.time()\n",
    "model.fit(X_train_encoded, y_train)\n",
    "stop  = time.time()\n",
    "t_time = stop - start\n",
    "\n",
    "# Calculate accuracy with train\n",
    "y_train_pred = model.predict(X_train_encoded)\n",
    "accuracy = accuracy_score(y_train, y_train_pred)\n",
    "print(\"Accuracy:\", accuracy)\n",
    "\n",
    "# Calculate accuracy with test\n",
    "y_pred = model.predict(X_test_encoded)\n",
    "test_accuracy = accuracy_score(y_test, y_pred)\n",
    "print(\"Accuracy:\", test_accuracy)\n",
    "\n",
    "# Create a new row as a dictionary\n",
    "new_row = {'Model': 'KNeighborsClassifier', 'Train Time': t_time, 'Train Accuracy' : accuracy, 'Test Accuracy' : test_accuracy}\n",
    "\n",
    "# Using append() method\n",
    "output = output.append(new_row, ignore_index=True)\n",
    "print(output)"
   ]
  },
  {
   "cell_type": "code",
   "execution_count": 15,
   "metadata": {},
   "outputs": [
    {
     "name": "stdout",
     "output_type": "stream",
     "text": [
      "Accuracy: 1.0\n",
      "Accuracy: 0.8840738043214372\n",
      "                    Model Train Time Train Accuracy Test Accuracy\n",
      "0         DummyClassifier   0.001332        0.79481      0.800437\n",
      "1      LogisticRegression   0.806132       0.861487       0.85664\n",
      "2    KNeighborsClassifier   0.013755       0.931684      0.901432\n",
      "3  DecisionTreeClassifier   0.117634            1.0      0.884074\n"
     ]
    }
   ],
   "source": [
    "# Create an instance of DummyClassifier using the desired strategy\n",
    "model = DecisionTreeClassifier()\n",
    "\n",
    "# Fit the model and find time to train using the training data\n",
    "start = time.time()\n",
    "model.fit(X_train_encoded, y_train)\n",
    "stop  = time.time()\n",
    "t_time = stop - start\n",
    "\n",
    "# Calculate accuracy with train\n",
    "y_train_pred = model.predict(X_train_encoded)\n",
    "accuracy = accuracy_score(y_train, y_train_pred)\n",
    "print(\"Accuracy:\", accuracy)\n",
    "\n",
    "# Calculate accuracy with test\n",
    "y_pred = model.predict(X_test_encoded)\n",
    "test_accuracy = accuracy_score(y_test, y_pred)\n",
    "print(\"Accuracy:\", test_accuracy)\n",
    "\n",
    "# Create a new row as a dictionary\n",
    "new_row = {'Model': 'DecisionTreeClassifier', 'Train Time': t_time, 'Train Accuracy' : accuracy, 'Test Accuracy' : test_accuracy}\n",
    "\n",
    "# Using append() method\n",
    "output = output.append(new_row, ignore_index=True)\n",
    "print(output)"
   ]
  },
  {
   "cell_type": "code",
   "execution_count": 16,
   "metadata": {},
   "outputs": [
    {
     "name": "stdout",
     "output_type": "stream",
     "text": [
      "Accuracy: 0.8411532625189682\n",
      "Accuracy: 0.8428016508861375\n"
     ]
    }
   ],
   "source": [
    "model = SVC( class_weight = 'balanced', probability = True )\n",
    "\n",
    "# Fit the model and find time to train using the training data\n",
    "start = time.time()\n",
    "model.fit(X_train_encoded, y_train)\n",
    "stop  = time.time()\n",
    "t_time = stop - start\n",
    "\n",
    "# Calculate accuracy with train\n",
    "y_train_pred = model.predict(X_train_encoded)\n",
    "accuracy = accuracy_score(y_train, y_train_pred)\n",
    "print(\"Accuracy:\", accuracy)\n",
    "\n",
    "# Calculate accuracy with test\n",
    "y_pred = model.predict(X_test_encoded)\n",
    "test_accuracy = accuracy_score(y_test, y_pred)\n",
    "print(\"Accuracy:\", test_accuracy)\n",
    "\n",
    "# Create a new row as a dictionary\n",
    "new_row = {'Model': 'SVC', 'Train Time': t_time, 'Train Accuracy' : accuracy, 'Test Accuracy' : test_accuracy}\n",
    "\n",
    "# Using append() method\n",
    "output = output.append(new_row, ignore_index=True)\n"
   ]
  },
  {
   "cell_type": "code",
   "execution_count": 17,
   "metadata": {},
   "outputs": [
    {
     "name": "stdout",
     "output_type": "stream",
     "text": [
      "                    Model  Train Time Train Accuracy Test Accuracy\n",
      "0         DummyClassifier    0.001332        0.79481      0.800437\n",
      "1      LogisticRegression    0.806132       0.861487       0.85664\n",
      "2    KNeighborsClassifier    0.013755       0.931684      0.901432\n",
      "3  DecisionTreeClassifier    0.117634            1.0      0.884074\n",
      "4                     SVC  205.136527       0.841153      0.842802\n"
     ]
    }
   ],
   "source": [
    "\n",
    "print(output)"
   ]
  },
  {
   "cell_type": "markdown",
   "metadata": {},
   "source": [
    "###### SVC has been slowest model of all. \n",
    "###### DecisionTreeClassifier seems to be overfitting for \"Train Accuracy\"\n",
    "###### KNeighborsClassifier seems to give the best performance for both Train and Test data."
   ]
  },
  {
   "cell_type": "markdown",
   "metadata": {},
   "source": [
    "### Problem 11: Improving the Model\n",
    "\n",
    "Now that we have some basic models on the board, we want to try to improve these.  Below, we list a few things to explore in this pursuit.\n",
    "\n",
    "- More feature engineering and exploration.  For example, should we keep the gender feature?  Why or why not?\n",
    "- Hyperparameter tuning and grid search.  All of our models have additional hyperparameters to tune and explore.  For example the number of neighbors in KNN or the maximum depth of a Decision Tree.  \n",
    "- Adjust your performance metric"
   ]
  },
  {
   "cell_type": "markdown",
   "metadata": {},
   "source": [
    "###### High level approach would be to apply GridSearchCV for LogisticRegression, KNeighborsClassifier, DecisionTreeClassifier and SVC\n",
    "###### Reduce the data set from ~38k -> 1k to save GridSearchCV time"
   ]
  },
  {
   "cell_type": "code",
   "execution_count": 18,
   "metadata": {},
   "outputs": [
    {
     "name": "stdout",
     "output_type": "stream",
     "text": [
      "Best Parameters: {'C': 1, 'penalty': 'l2', 'solver': 'liblinear'}\n",
      "Best Score: 0.9190000000000002\n",
      "Test Accuracy: 0.9065307113377034\n"
     ]
    }
   ],
   "source": [
    "# Create an instance of Logistic Regression\n",
    "logreg = LogisticRegression()\n",
    "\n",
    "# Define the hyperparameter grid to search\n",
    "param_grid = {\n",
    "    'C': [0.1, 1, 10],\n",
    "    'penalty': ['l1', 'l2'],\n",
    "    'solver': ['liblinear', 'lbfgs']\n",
    "}\n",
    "\n",
    "# Perform grid search using cross-validation\n",
    "grid_search = GridSearchCV(estimator=logreg, param_grid=param_grid, cv=5)\n",
    "grid_search.fit(X_train_encoded.head(1000), y_train.head(1000))\n",
    "\n",
    "# Retrieve the best parameter values and best score\n",
    "best_params = grid_search.best_params_\n",
    "best_score = grid_search.best_score_\n",
    "\n",
    "# Evaluate the model with the best parameters on the test set\n",
    "best_model = grid_search.best_estimator_\n",
    "test_accuracy = best_model.score(X_test_encoded, y_test)\n",
    "\n",
    "print(\"Best Parameters:\", best_params)\n",
    "print(\"Best Score:\", best_score)\n",
    "print(\"Test Accuracy:\", test_accuracy)"
   ]
  },
  {
   "cell_type": "code",
   "execution_count": 19,
   "metadata": {},
   "outputs": [
    {
     "name": "stdout",
     "output_type": "stream",
     "text": [
      "Best Parameters: {'n_neighbors': 7, 'p': 2, 'weights': 'uniform'}\n",
      "Best Score: 0.915\n",
      "Test Accuracy: 0.8996115562029618\n"
     ]
    }
   ],
   "source": [
    "knn = KNeighborsClassifier()\n",
    "\n",
    "# Define the hyperparameter grid to search\n",
    "param_grid = {\n",
    "    'n_neighbors': [3, 5, 7],\n",
    "    'weights': ['uniform', 'distance'],\n",
    "    'p': [1, 2]\n",
    "}\n",
    "\n",
    "# Perform grid search using cross-validation\n",
    "grid_search = GridSearchCV(estimator=knn, param_grid=param_grid, cv=5)\n",
    "grid_search.fit(X_train_encoded.head(1000), y_train.head(1000))\n",
    "\n",
    "# Retrieve the best parameter values and best score\n",
    "best_params = grid_search.best_params_\n",
    "best_score = grid_search.best_score_\n",
    "\n",
    "# Evaluate the model with the best parameters on the test set\n",
    "best_model = grid_search.best_estimator_\n",
    "test_accuracy = best_model.score(X_test_encoded, y_test)\n",
    "\n",
    "print(\"Best Parameters:\", best_params)\n",
    "print(\"Best Score:\", best_score)\n",
    "print(\"Test Accuracy:\", test_accuracy)"
   ]
  },
  {
   "cell_type": "code",
   "execution_count": null,
   "metadata": {},
   "outputs": [],
   "source": []
  },
  {
   "cell_type": "code",
   "execution_count": 20,
   "metadata": {},
   "outputs": [
    {
     "name": "stdout",
     "output_type": "stream",
     "text": [
      "Best Parameters: {'criterion': 'gini', 'max_depth': 15, 'min_samples_leaf': 2, 'min_samples_split': 2}\n",
      "Best Score: 0.915\n",
      "Test Accuracy: 0.892571012381646\n"
     ]
    }
   ],
   "source": [
    "dt = DecisionTreeClassifier()\n",
    "\n",
    "# Define the hyperparameter grid to search\n",
    "param_grid = {\n",
    "    'criterion': ['gini', 'entropy'],\n",
    "    'max_depth': [None, 5, 10, 15],\n",
    "    'min_samples_split': [2, 5, 10],\n",
    "    'min_samples_leaf': [1, 2, 4]\n",
    "}\n",
    "\n",
    "# Perform grid search using cross-validation\n",
    "grid_search = GridSearchCV(estimator=dt, param_grid=param_grid, cv=5)\n",
    "grid_search.fit(X_train_encoded.head(1000), y_train.head(1000))\n",
    "\n",
    "# Retrieve the best parameter values and best score\n",
    "best_params = grid_search.best_params_\n",
    "best_score = grid_search.best_score_\n",
    "\n",
    "# Evaluate the model with the best parameters on the test set\n",
    "best_model = grid_search.best_estimator_\n",
    "test_accuracy = best_model.score(X_test_encoded, y_test)\n",
    "\n",
    "print(\"Best Parameters:\", best_params)\n",
    "print(\"Best Score:\", best_score)\n",
    "print(\"Test Accuracy:\", test_accuracy)"
   ]
  },
  {
   "cell_type": "code",
   "execution_count": null,
   "metadata": {},
   "outputs": [],
   "source": []
  },
  {
   "cell_type": "code",
   "execution_count": null,
   "metadata": {},
   "outputs": [],
   "source": [
    "# Create an instance of Support Vector Classifier\n",
    "svc = SVC()\n",
    "\n",
    "# Define the hyperparameter grid to search\n",
    "param_grid = {\n",
    "    'C': [0.1, 1, 10],\n",
    "    'kernel': ['linear', 'rbf', 'poly'],\n",
    "    'gamma': ['scale', 'auto']\n",
    "}\n",
    "\n",
    "# Perform grid search using cross-validation\n",
    "grid_search = GridSearchCV(estimator=svc, param_grid=param_grid, cv=5)\n",
    "grid_search.fit(X_train_encoded.head(100), y_train.head(100))\n",
    "\n",
    "# Retrieve the best parameter values and best score\n",
    "best_params = grid_search.best_params_\n",
    "best_score = grid_search.best_score_\n",
    "\n",
    "# Evaluate the model with the best parameters on the test set\n",
    "best_model = grid_search.best_estimator_\n",
    "test_accuracy = best_model.score(X_test_encoded, y_test)\n",
    "\n",
    "print(\"Best Parameters:\", best_params)\n",
    "print(\"Best Score:\", best_score)\n",
    "print(\"Test Accuracy:\", test_accuracy)"
   ]
  },
  {
   "cell_type": "code",
   "execution_count": null,
   "metadata": {},
   "outputs": [],
   "source": []
  },
  {
   "cell_type": "markdown",
   "metadata": {},
   "source": []
  },
  {
   "cell_type": "code",
   "execution_count": null,
   "metadata": {},
   "outputs": [],
   "source": []
  }
 ],
 "metadata": {
  "kernelspec": {
   "display_name": "Python 3 (ipykernel)",
   "language": "python",
   "name": "python3"
  },
  "language_info": {
   "codemirror_mode": {
    "name": "ipython",
    "version": 3
   },
   "file_extension": ".py",
   "mimetype": "text/x-python",
   "name": "python",
   "nbconvert_exporter": "python",
   "pygments_lexer": "ipython3",
   "version": "3.9.12"
  },
  "widgets": {
   "application/vnd.jupyter.widget-state+json": {
    "state": {},
    "version_major": 2,
    "version_minor": 0
   }
  }
 },
 "nbformat": 4,
 "nbformat_minor": 4
}
